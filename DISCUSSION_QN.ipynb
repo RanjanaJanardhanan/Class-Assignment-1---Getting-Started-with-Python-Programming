{
  "nbformat": 4,
  "nbformat_minor": 0,
  "metadata": {
    "colab": {
      "name": "DISCUSSION QN.ipynb",
      "provenance": [],
      "collapsed_sections": [],
      "authorship_tag": "ABX9TyOhovq1Q+VfQlDkeO+SyQpX",
      "include_colab_link": true
    },
    "kernelspec": {
      "name": "python3",
      "display_name": "Python 3"
    }
  },
  "cells": [
    {
      "cell_type": "markdown",
      "metadata": {
        "id": "view-in-github",
        "colab_type": "text"
      },
      "source": [
        "<a href=\"https://colab.research.google.com/github/RanjanaJanardhanan/Class-Assignment-1---Getting-Started-with-Python-Programming/blob/master/DISCUSSION_QN.ipynb\" target=\"_parent\"><img src=\"https://colab.research.google.com/assets/colab-badge.svg\" alt=\"Open In Colab\"/></a>"
      ]
    },
    {
      "cell_type": "markdown",
      "metadata": {
        "id": "5JPY8HTyuV-h"
      },
      "source": [
        "QUESTION 1"
      ]
    },
    {
      "cell_type": "code",
      "metadata": {
        "colab": {
          "base_uri": "https://localhost:8080/"
        },
        "id": "L8rIrgbCuK8z",
        "outputId": "39c4b1ab-f053-4e26-be4e-1697ccc29079"
      },
      "source": [
        "b=[]\r\n",
        "for i in range(0,4):\r\n",
        "    a=int(input(\"Enter 4 integers: \"))\r\n",
        "    b.append(a)\r\n",
        "sum1=0\r\n",
        "sum2=0\r\n",
        "avg=0\r\n",
        "count1=0\r\n",
        "count2=0\r\n",
        "for j in b:\r\n",
        "    if(j>0):\r\n",
        "      count1 = count1+1\r\n",
        "      sum1 = sum1+j\r\n",
        "      avg1 = sum1/count1\r\n",
        "    else:\r\n",
        "      count2 = count2+1\r\n",
        "      sum2 = sum2+j\r\n",
        "      avg2 = sum2/count2\r\n",
        "print(\"Sum of all positive numbers:\",sum1)\r\n",
        "print(\"Sum of all negative numbers:\",sum2)\r\n",
        "print(\"Average of positive numbers:\",avg1)\r\n",
        "print(\"Average of negative numbers:\",avg2)\r\n"
      ],
      "execution_count": 5,
      "outputs": [
        {
          "output_type": "stream",
          "text": [
            "Enter 4 integers: 10\n",
            "Enter 4 integers: -111\n",
            "Enter 4 integers: 100\n",
            "Enter 4 integers: -32\n",
            "Sum of all positive numbers: 110\n",
            "Sum of all negative numbers: -143\n",
            "Average of positive numbers: 55.0\n",
            "Average of negative numbers: -71.5\n"
          ],
          "name": "stdout"
        }
      ]
    },
    {
      "cell_type": "markdown",
      "metadata": {
        "id": "_3r2Kw3HzOD4"
      },
      "source": [
        "QUESTION 2"
      ]
    },
    {
      "cell_type": "code",
      "metadata": {
        "colab": {
          "base_uri": "https://localhost:8080/"
        },
        "id": "heSRJobyzSoI",
        "outputId": "0d2012b4-b2c6-4077-c716-d40dcbd7e06d"
      },
      "source": [
        "mystr= input(\"input the string\")\r\n",
        "frequencies = {} \r\n",
        "  \r\n",
        "for char in mystr: \r\n",
        "   if char in frequencies: \r\n",
        "      frequencies[char] += 1\r\n",
        "   else: \r\n",
        "      frequencies[char] = 1\r\n",
        "\r\n",
        "print (\"frequency in '{}' is :\\n {}\".format(mystr, str(frequencies)))"
      ],
      "execution_count": 27,
      "outputs": [
        {
          "output_type": "stream",
          "text": [
            "input the stringRanjan@2001\n",
            "frequency in 'Ranjan@2001' is :\n",
            " {'R': 1, 'a': 2, 'n': 2, 'j': 1, '@': 1, '2': 1, '0': 2, '1': 1}\n"
          ],
          "name": "stdout"
        }
      ]
    },
    {
      "cell_type": "markdown",
      "metadata": {
        "id": "LZtyXBhX3YA-"
      },
      "source": [
        "QUESTION 3"
      ]
    },
    {
      "cell_type": "code",
      "metadata": {
        "colab": {
          "base_uri": "https://localhost:8080/"
        },
        "id": "0Dmjoh0g3aYc",
        "outputId": "77cc8d97-5cc3-40bf-de5e-6f899b66d11d"
      },
      "source": [
        "NumList = []\r\n",
        "Number = int(input(\"Please enter the Total Number of List Elements: \"))\r\n",
        "for i in range(1, Number + 1):\r\n",
        "    value = int(input(\"Please enter the Value of %d Element : \" %i))\r\n",
        "    NumList.append(value)\r\n",
        "\r\n",
        "for i in range (Number):\r\n",
        "    for j in range(i + 1, Number):\r\n",
        "        if(NumList[i] > NumList[j]):\r\n",
        "            temp = NumList[i]\r\n",
        "            NumList[i] = NumList[j]\r\n",
        "            NumList[j] = temp\r\n",
        "\r\n",
        "print(\"Element After Sorting List in Ascending Order is : \", NumList)\r\n"
      ],
      "execution_count": 17,
      "outputs": [
        {
          "output_type": "stream",
          "text": [
            "Please enter the Total Number of List Elements: 10\n",
            "Please enter the Value of 1 Element : 23\n",
            "Please enter the Value of 2 Element : 12\n",
            "Please enter the Value of 3 Element : 56\n",
            "Please enter the Value of 4 Element : 32\n",
            "Please enter the Value of 5 Element : 45\n",
            "Please enter the Value of 6 Element : 90\n",
            "Please enter the Value of 7 Element : -87\n",
            "Please enter the Value of 8 Element : -2\n",
            "Please enter the Value of 9 Element : 4\n",
            "Please enter the Value of 10 Element : 9\n",
            "Element After Sorting List in Ascending Order is :  [-87, -2, 4, 9, 12, 23, 32, 45, 56, 90]\n"
          ],
          "name": "stdout"
        }
      ]
    },
    {
      "cell_type": "markdown",
      "metadata": {
        "id": "mLFNKcPD4Aj1"
      },
      "source": [
        "QUESTION 4"
      ]
    },
    {
      "cell_type": "code",
      "metadata": {
        "colab": {
          "base_uri": "https://localhost:8080/"
        },
        "id": "uoCkqbGR4C1w",
        "outputId": "2a012631-0642-42cc-db98-a7ffc61449c6"
      },
      "source": [
        "def Palindrome(r):\r\n",
        "\r\n",
        "    return r == r[::-1]\r\n",
        "\r\n",
        "r=input(\"enter the string (case sensitive) :\")\r\n",
        "\r\n",
        "ans = Palindrome(r)\r\n",
        "\r\n",
        "\r\n",
        "if ans:\r\n",
        "\r\n",
        "    print(\"Yes, it is palindrome\")\r\n",
        "\r\n",
        "else:\r\n",
        "\r\n",
        "    print(\"No, it is not palindrome\")"
      ],
      "execution_count": 25,
      "outputs": [
        {
          "output_type": "stream",
          "text": [
            "enter the string (case sensitive) :manam\n",
            "Yes, it is palindrome\n"
          ],
          "name": "stdout"
        }
      ]
    },
    {
      "cell_type": "markdown",
      "metadata": {
        "id": "cmMINe-Y6KAw"
      },
      "source": [
        "QUESTION 5"
      ]
    },
    {
      "cell_type": "code",
      "metadata": {
        "colab": {
          "base_uri": "https://localhost:8080/"
        },
        "id": "ZQG8Y93B6MAQ",
        "outputId": "faa8d86a-b4ab-4cd6-bf4a-bd79114a532a"
      },
      "source": [
        "import math\r\n",
        "def fact(k):\r\n",
        "   if k<=1:\r\n",
        "     return 1\r\n",
        "   else:\r\n",
        "     return k* fact(k-1)\r\n",
        "\r\n",
        "step=int(input(\"enter the no of terms\"))\r\n",
        "x=int(input(\"enter the value of x\"))\r\n",
        "sum=0\r\n",
        "for i in range(step+1):\r\n",
        "   sum+=(math.pow(-1,i)*math.pow(x,2*i+1))/fact(2*i+1)\r\n",
        "print(\"The result of sin(\",step,\")\",sum)"
      ],
      "execution_count": 26,
      "outputs": [
        {
          "output_type": "stream",
          "text": [
            "enter the no of terms5\n",
            "enter the value of x1\n",
            "The result of sin( 5 ) 0.841470984648068\n"
          ],
          "name": "stdout"
        }
      ]
    },
    {
      "cell_type": "markdown",
      "metadata": {
        "id": "6qpO78iMwNKl"
      },
      "source": [
        "QUESTION 6"
      ]
    },
    {
      "cell_type": "code",
      "metadata": {
        "colab": {
          "base_uri": "https://localhost:8080/"
        },
        "id": "RxQe4geyuJlo",
        "outputId": "cec17a28-b6f4-4f9c-848b-c2173982d22a"
      },
      "source": [
        "password = input(\"Enter the password : \")\r\n",
        "upper = False\r\n",
        "number = False\r\n",
        "lower = False\r\n",
        "special = False\r\n",
        "num = ['0','1','2','3','4','5','6','7','8','9']\r\n",
        "\r\n",
        "if len(password) < 6:\r\n",
        "  print(\"Password is too short, minimum length should be 6.\")\r\n",
        "else:\r\n",
        "  for i in password:\r\n",
        "    if i.isupper()==True:\r\n",
        "      upper = True\r\n",
        "    elif i.islower()==True:\r\n",
        "      lower = True\r\n",
        "    elif i in num:\r\n",
        "      number = True\r\n",
        "    elif i==\"$\" or i==\"#\" or i==\"@\":\r\n",
        "      special = True\r\n",
        "if upper==True and lower==True and number==True and special== True:\r\n",
        "  print(\"Password is accepted!\")\r\n",
        "else:\r\n",
        "  print(\"Password not accepted!\")"
      ],
      "execution_count": 8,
      "outputs": [
        {
          "output_type": "stream",
          "text": [
            "Enter the password : Rj@2001\n",
            "Password is accepted!\n"
          ],
          "name": "stdout"
        }
      ]
    }
  ]
}