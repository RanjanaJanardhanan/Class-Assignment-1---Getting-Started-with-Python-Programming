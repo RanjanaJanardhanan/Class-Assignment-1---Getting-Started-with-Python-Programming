{
  "nbformat": 4,
  "nbformat_minor": 0,
  "metadata": {
    "colab": {
      "name": "Untitled",
      "provenance": [],
      "collapsed_sections": [],
      "authorship_tag": "ABX9TyMmtFH/aKP2t7zihfwkX/Ld",
      "include_colab_link": true
    },
    "kernelspec": {
      "name": "python3",
      "display_name": "Python 3"
    }
  },
  "cells": [
    {
      "cell_type": "markdown",
      "metadata": {
        "id": "view-in-github",
        "colab_type": "text"
      },
      "source": [
        "<a href=\"https://colab.research.google.com/github/RanjanaJanardhanan/Class-Assignment-1---Getting-Started-with-Python-Programming/blob/master/Assignment%20.ipynb\" target=\"_parent\"><img src=\"https://colab.research.google.com/assets/colab-badge.svg\" alt=\"Open In Colab\"/></a>"
      ]
    },
    {
      "cell_type": "code",
      "metadata": {
        "id": "iFr4dBFke3XU",
        "colab_type": "code",
        "colab": {}
      },
      "source": [
        ""
      ],
      "execution_count": null,
      "outputs": []
    },
    {
      "cell_type": "markdown",
      "metadata": {
        "id": "QMY3S6S8fJK6",
        "colab_type": "text"
      },
      "source": [
        "Question 2"
      ]
    },
    {
      "cell_type": "code",
      "metadata": {
        "id": "oEvFAk6vfmhp",
        "colab_type": "code",
        "colab": {
          "base_uri": "https://localhost:8080/",
          "height": 106
        },
        "outputId": "5e1c78a5-6d77-4e6a-80d2-c0dfcc059f27"
      },
      "source": [
        "name=input(\"Enter name:\")\n",
        "address=input(\"Enter address:\")\n",
        "telephone=input(\"Enter telephone:\")\n",
        "print(\"my details\",name, address, telephone)"
      ],
      "execution_count": null,
      "outputs": [
        {
          "output_type": "stream",
          "text": [
            "Enter name:Ranjana Janardhanan \n",
            "Enter address:Pakkam\n",
            "Enter telephone:04672255\n",
            "my details Ranjana Janardhanan  Pakkam 04672255\n"
          ],
          "name": "stdout"
        }
      ]
    },
    {
      "cell_type": "code",
      "metadata": {
        "id": "rTBB9UkZhDcq",
        "colab_type": "code",
        "colab": {}
      },
      "source": [
        ""
      ],
      "execution_count": null,
      "outputs": []
    },
    {
      "cell_type": "markdown",
      "metadata": {
        "id": "zPzL-7N2hDzQ",
        "colab_type": "text"
      },
      "source": [
        "Question 3"
      ]
    },
    {
      "cell_type": "code",
      "metadata": {
        "id": "v8VDvzethGgo",
        "colab_type": "code",
        "colab": {
          "base_uri": "https://localhost:8080/",
          "height": 34
        },
        "outputId": "11be38e7-63d6-43d5-8b51-54cfc89bc134"
      },
      "source": [
        "#name\n",
        "print (\"Your Name is\", Name)\n",
        "Name=123"
      ],
      "execution_count": null,
      "outputs": [
        {
          "output_type": "stream",
          "text": [
            "Your Name is Ranjana\n"
          ],
          "name": "stdout"
        }
      ]
    },
    {
      "cell_type": "code",
      "metadata": {
        "id": "KBKYMA_Qj3DT",
        "colab_type": "code",
        "colab": {}
      },
      "source": [
        ""
      ],
      "execution_count": null,
      "outputs": []
    },
    {
      "cell_type": "markdown",
      "metadata": {
        "id": "lv_e6E8qnuMf",
        "colab_type": "text"
      },
      "source": [
        "Question 6"
      ]
    },
    {
      "cell_type": "code",
      "metadata": {
        "id": "T_exgWz7nwsd",
        "colab_type": "code",
        "colab": {
          "base_uri": "https://localhost:8080/",
          "height": 51
        },
        "outputId": "0d7ce340-bf46-4090-f17f-7762e95d5bd3"
      },
      "source": [
        "#area of circle\n",
        "radius=float(input(\"Enter the radius of the circle:\"))\n",
        "area=3.14*radius **2\n",
        "print(\"Area of the circle\", area)"
      ],
      "execution_count": null,
      "outputs": [
        {
          "output_type": "stream",
          "text": [
            "Enter the radius of the circle:4\n",
            "Area of the circle 50.24\n"
          ],
          "name": "stdout"
        }
      ]
    },
    {
      "cell_type": "code",
      "metadata": {
        "id": "1F_zg3k3o2_8",
        "colab_type": "code",
        "colab": {}
      },
      "source": [
        ""
      ],
      "execution_count": null,
      "outputs": []
    },
    {
      "cell_type": "markdown",
      "metadata": {
        "id": "Jz_TxL4xzZ8F",
        "colab_type": "text"
      },
      "source": [
        "Question 7"
      ]
    },
    {
      "cell_type": "code",
      "metadata": {
        "id": "W-EDrst2zcK7",
        "colab_type": "code",
        "colab": {
          "base_uri": "https://localhost:8080/",
          "height": 89
        },
        "outputId": "a7126147-4a06-42dc-864a-6109c415fb79"
      },
      "source": [
        "Name=input(\"Enter your name:\")\n",
        "Age=input(\"Enter your age:\")\n",
        "print(\"My name is \"+Name+\" and my age is \"+Age+\"\")"
      ],
      "execution_count": null,
      "outputs": [
        {
          "output_type": "stream",
          "text": [
            "Enter your name:Ranjana Janardhanan\n",
            "Enter your age:18\n",
            "My name is Ranjana Janardhanan and my age is 18\n"
          ],
          "name": "stdout"
        }
      ]
    },
    {
      "cell_type": "markdown",
      "metadata": {
        "id": "UFKTRAFmzKtV",
        "colab_type": "text"
      },
      "source": [
        ""
      ]
    },
    {
      "cell_type": "markdown",
      "metadata": {
        "id": "T_p6ergO0pBk",
        "colab_type": "text"
      },
      "source": [
        "Question 8"
      ]
    },
    {
      "cell_type": "code",
      "metadata": {
        "id": "h3MZPUjZ0rtL",
        "colab_type": "code",
        "colab": {
          "base_uri": "https://localhost:8080/",
          "height": 51
        },
        "outputId": "a051eebf-36b9-4601-d174-d847404194eb"
      },
      "source": [
        "k=float(input(\"Enter a number:\"))\n",
        "k=k+1\n",
        "print(k)"
      ],
      "execution_count": null,
      "outputs": [
        {
          "output_type": "stream",
          "text": [
            "Enter a number:5\n",
            "6\n"
          ],
          "name": "stdout"
        }
      ]
    },
    {
      "cell_type": "markdown",
      "metadata": {
        "id": "ELHgWG9Jo3V8",
        "colab_type": "text"
      },
      "source": [
        ""
      ]
    },
    {
      "cell_type": "markdown",
      "metadata": {
        "id": "RtzuHJjH17YN",
        "colab_type": "text"
      },
      "source": [
        "Question 9"
      ]
    },
    {
      "cell_type": "code",
      "metadata": {
        "id": "WIdIk-2819NH",
        "colab_type": "code",
        "colab": {
          "base_uri": "https://localhost:8080/",
          "height": 51
        },
        "outputId": "75f90849-240a-4c53-a7fd-882338de2653"
      },
      "source": [
        "Name=input(\"Enter your first name:\")\n",
        "print(Name)"
      ],
      "execution_count": null,
      "outputs": [
        {
          "output_type": "stream",
          "text": [
            "Enter your first name:Ranjana\n",
            "Ranjana\n"
          ],
          "name": "stdout"
        }
      ]
    },
    {
      "cell_type": "code",
      "metadata": {
        "id": "VDQZ9ggp3ZKy",
        "colab_type": "code",
        "colab": {
          "base_uri": "https://localhost:8080/",
          "height": 52
        },
        "outputId": "04b0391e-fa3e-43bc-a451-db62cab87ba7"
      },
      "source": [
        "input(\"Enter your first name:\")"
      ],
      "execution_count": null,
      "outputs": [
        {
          "output_type": "stream",
          "text": [
            "Enter your first name:Ranjana\n"
          ],
          "name": "stdout"
        },
        {
          "output_type": "execute_result",
          "data": {
            "application/vnd.google.colaboratory.intrinsic+json": {
              "type": "string"
            },
            "text/plain": [
              "'Ranjana'"
            ]
          },
          "metadata": {
            "tags": []
          },
          "execution_count": 22
        }
      ]
    },
    {
      "cell_type": "markdown",
      "metadata": {
        "id": "M9aV0SZ23lIl",
        "colab_type": "text"
      },
      "source": [
        "Question 4"
      ]
    },
    {
      "cell_type": "code",
      "metadata": {
        "id": "CUiBx9jW3m9g",
        "colab_type": "code",
        "colab": {
          "base_uri": "https://localhost:8080/",
          "height": 69
        },
        "outputId": "2ee07961-1197-427f-f392-a44daacf72cc"
      },
      "source": [
        "#area of rectangle \n",
        "Width=float(input(\"Enter the width:\"))\n",
        "Height=float(input(\"Enter the height:\"))\n",
        "area=Width*Height\n",
        "print(\"The area of is\", area, \"square unit\")"
      ],
      "execution_count": null,
      "outputs": [
        {
          "output_type": "stream",
          "text": [
            "Enter the width:8\n",
            "Enter the height:7\n",
            "The area of is 56 square unit\n"
          ],
          "name": "stdout"
        }
      ]
    },
    {
      "cell_type": "markdown",
      "metadata": {
        "id": "IGlwIDhk4cBy",
        "colab_type": "text"
      },
      "source": [
        "Question 5"
      ]
    },
    {
      "cell_type": "code",
      "metadata": {
        "id": "-zjtW0hb4d12",
        "colab_type": "code",
        "colab": {
          "base_uri": "https://localhost:8080/",
          "height": 69
        },
        "outputId": "577f2349-7e73-4d84-d70b-1658f4132b12"
      },
      "source": [
        "#area of triangle \n",
        "Base=float(input(\"Enter the base\"))\n",
        "Height =float(input(\"Enter the height\"))\n",
        "Area=0.5*Base*Height\n",
        "print (\"The Area is\",Area,\"units\")"
      ],
      "execution_count": null,
      "outputs": [
        {
          "output_type": "stream",
          "text": [
            "Enter the width8\n",
            "Enter the height6\n",
            "The Area is 24.0 units\n"
          ],
          "name": "stdout"
        }
      ]
    }
  ]
}
