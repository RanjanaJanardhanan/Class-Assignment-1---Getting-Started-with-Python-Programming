{
  "nbformat": 4,
  "nbformat_minor": 0,
  "metadata": {
    "colab": {
      "name": "Pythonbasics.ipynb",
      "provenance": [],
      "authorship_tag": "ABX9TyPH/qN0+sRK2lpctL3cGT9+",
      "include_colab_link": true
    },
    "kernelspec": {
      "name": "python3",
      "display_name": "Python 3"
    }
  },
  "cells": [
    {
      "cell_type": "markdown",
      "metadata": {
        "id": "view-in-github",
        "colab_type": "text"
      },
      "source": [
        "<a href=\"https://colab.research.google.com/github/RanjanaJanardhanan/Class-Assignment-1---Getting-Started-with-Python-Programming/blob/master/Pythonbasics.ipynb\" target=\"_parent\"><img src=\"https://colab.research.google.com/assets/colab-badge.svg\" alt=\"Open In Colab\"/></a>"
      ]
    },
    {
      "cell_type": "code",
      "metadata": {
        "id": "6UI3Njjh2Bb3",
        "outputId": "90b68554-db68-4baf-c4bf-ad57c8182aae",
        "colab": {
          "base_uri": "https://localhost:8080/",
          "height": 85
        }
      },
      "source": [
        "x= float (input(\"Enter the first number\"))\n",
        "y= float (input(\"Enter the second number\"))\n",
        "z= float (input(\"Enter the third number\"))\n",
        "if (x>y)&(y>z):\n",
        "  print (\"The largest number is :\",x)\n",
        "elif (y>x)&(y>z):\n",
        "  print (\"The largest number is:\",y)\n",
        "else:\n",
        "  print (\"The largest number is:\",z)"
      ],
      "execution_count": 1,
      "outputs": [
        {
          "output_type": "stream",
          "text": [
            "Enter the first number5\n",
            "Enter the second number18\n",
            "Enter the third number7\n",
            "The largest number is: 18.0\n"
          ],
          "name": "stdout"
        }
      ]
    }
  ]
}